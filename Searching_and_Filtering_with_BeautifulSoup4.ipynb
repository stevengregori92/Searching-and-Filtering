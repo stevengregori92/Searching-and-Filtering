{
  "nbformat": 4,
  "nbformat_minor": 0,
  "metadata": {
    "colab": {
      "provenance": [],
      "authorship_tag": "ABX9TyPA2zsZ6omovRFR+iRsDBdL",
      "include_colab_link": true
    },
    "kernelspec": {
      "name": "python3",
      "display_name": "Python 3"
    },
    "language_info": {
      "name": "python"
    }
  },
  "cells": [
    {
      "cell_type": "markdown",
      "metadata": {
        "id": "view-in-github",
        "colab_type": "text"
      },
      "source": [
        "<a href=\"https://colab.research.google.com/github/stevengregori92/Searching-and-Filtering/blob/main/Searching_and_Filtering_with_BeautifulSoup4.ipynb\" target=\"_parent\"><img src=\"https://colab.research.google.com/assets/colab-badge.svg\" alt=\"Open In Colab\"/></a>"
      ]
    },
    {
      "cell_type": "code",
      "execution_count": 27,
      "metadata": {
        "id": "DQgofs53SXh0"
      },
      "outputs": [],
      "source": [
        "from bs4 import BeautifulSoup\n",
        "import re"
      ]
    },
    {
      "cell_type": "code",
      "source": [
        "with open('index2.html', 'r') as f:\n",
        "  doc = BeautifulSoup(f,\"html.parser\")\n",
        "\n",
        "print(doc)"
      ],
      "metadata": {
        "colab": {
          "base_uri": "https://localhost:8080/"
        },
        "id": "HPCTlJ1JOvty",
        "outputId": "6ba273d9-b4c0-4fde-a2e2-79f4809192d5"
      },
      "execution_count": 28,
      "outputs": [
        {
          "output_type": "stream",
          "name": "stdout",
          "text": [
            "<!DOCTYPE html>\n",
            "\n",
            "<html>\n",
            "<head>\n",
            "<title>Educational registration form</title>\n",
            "<link crossorigin=\"anonymous\" href=\"https://use.fontawesome.com/releases/v5.4.1/css/all.css\" integrity=\"sha384-5sAR7xN1Nv6T6+dT2mhtzEpVJvfS3NScPQTrOxhwjIuvcA67KV2R5Jz6kr4abQsz\" rel=\"stylesheet\"/>\n",
            "<link href=\"https://fonts.googleapis.com/css?family=Roboto:300,400,500,700\" rel=\"stylesheet\"/>\n",
            "<style>\n",
            "      html, body {\n",
            "      min-height: 100%;\n",
            "      }\n",
            "      body, div, form, input, select, p { \n",
            "      padding: 0;\n",
            "      margin: 0;\n",
            "      outline: none;\n",
            "      font-family: Roboto, Arial, sans-serif;\n",
            "      font-size: 16px;\n",
            "      color: #eee;\n",
            "      }\n",
            "      body {\n",
            "      background: url(\"/uploads/media/default/0001/01/b5edc1bad4dc8c20291c8394527cb2c5b43ee13c.jpeg\") no-repeat center;\n",
            "      background-size: cover;\n",
            "      }\n",
            "      h1, h2 {\n",
            "      text-transform: uppercase;\n",
            "      font-weight: 400;\n",
            "      }\n",
            "      h2 {\n",
            "      margin: 0 0 0 8px;\n",
            "      }\n",
            "      .main-block {\n",
            "      display: flex;\n",
            "      flex-direction: column;\n",
            "      justify-content: center;\n",
            "      align-items: center;\n",
            "      height: 100%;\n",
            "      padding: 25px;\n",
            "      background: rgba(0, 0, 0, 0.5); \n",
            "      }\n",
            "      .left-part, form {\n",
            "      padding: 25px;\n",
            "      }\n",
            "      .left-part {\n",
            "      text-align: center;\n",
            "      }\n",
            "      .fa-graduation-cap {\n",
            "      font-size: 72px;\n",
            "      }\n",
            "      form {\n",
            "      background: rgba(0, 0, 0, 0.7); \n",
            "      }\n",
            "      .title {\n",
            "      display: flex;\n",
            "      align-items: center;\n",
            "      margin-bottom: 20px;\n",
            "      }\n",
            "      .info {\n",
            "      display: flex;\n",
            "      flex-direction: column;\n",
            "      }\n",
            "      input, select {\n",
            "      padding: 5px;\n",
            "      margin-bottom: 30px;\n",
            "      background: transparent;\n",
            "      border: none;\n",
            "      border-bottom: 1px solid #eee;\n",
            "      }\n",
            "      input::placeholder {\n",
            "      color: #eee;\n",
            "      }\n",
            "      option:focus {\n",
            "      border: none;\n",
            "      }\n",
            "      option {\n",
            "      background: black; \n",
            "      border: none;\n",
            "      }\n",
            "      .checkbox input {\n",
            "      margin: 0 10px 0 0;\n",
            "      vertical-align: middle;\n",
            "      }\n",
            "      .checkbox a {\n",
            "      color: #26a9e0;\n",
            "      }\n",
            "      .checkbox a:hover {\n",
            "      color: #85d6de;\n",
            "      }\n",
            "      .btn-item, button {\n",
            "      padding: 10px 5px;\n",
            "      margin-top: 20px;\n",
            "      border-radius: 5px; \n",
            "      border: none;\n",
            "      background: #26a9e0; \n",
            "      text-decoration: none;\n",
            "      font-size: 15px;\n",
            "      font-weight: 400;\n",
            "      color: #fff;\n",
            "      }\n",
            "      .btn-item {\n",
            "      display: inline-block;\n",
            "      margin: 20px 5px 0;\n",
            "      }\n",
            "      button {\n",
            "      width: 100%;\n",
            "      }\n",
            "      button:hover, .btn-item:hover {\n",
            "      background: #85d6de;\n",
            "      }\n",
            "      @media (min-width: 568px) {\n",
            "      html, body {\n",
            "      height: 100%;\n",
            "      }\n",
            "      .main-block {\n",
            "      flex-direction: row;\n",
            "      height: calc(100% - 50px);\n",
            "      }\n",
            "      .left-part, form {\n",
            "      flex: 1;\n",
            "      height: auto;\n",
            "      }\n",
            "      }\n",
            "    </style>\n",
            "</head>\n",
            "<body>\n",
            "<div class=\"main-block\">\n",
            "<div class=\"left-part\">\n",
            "<i class=\"fas fa-graduation-cap\"></i>\n",
            "<h1>Register to our courses</h1>\n",
            "<p>W3docs provides free learning materials for programming languages like HTML, CSS, Java Script, PHP etc.</p>\n",
            "<div class=\"btn-group\">\n",
            "<a class=\"btn-item\" href=\"https://www.w3docs.com/learn-html.html\">Learn HTML</a>\n",
            "<a class=\"btn-item\" href=\"https://www.w3docs.com/quiz/#\">Select Quiz</a>\n",
            "</div>\n",
            "        $2345\n",
            "      </div>\n",
            "<form action=\"/\">\n",
            "<div class=\"title\">\n",
            "<i class=\"fas fa-pencil-alt\"></i>\n",
            "<h2>Register here</h2>\n",
            "</div>\n",
            "        $123\n",
            "        <div class=\"info\">\n",
            "<input class=\"fname\" name=\"name\" placeholder=\"Full name\" type=\"text\"/>\n",
            "<input name=\"name\" placeholder=\"Email\" type=\"text\"/>\n",
            "<input name=\"name\" placeholder=\"Phone number\" type=\"text\"/>\n",
            "<input name=\"name\" placeholder=\"Password\" type=\"password\"/>\n",
            "<select>\n",
            "<option selected=\"\" value=\"course-type\">Course type*</option>\n",
            "<option value=\"short-courses\">Short courses</option>\n",
            "<option value=\"featured-courses\">Featured courses</option>\n",
            "<option value=\"undergraduate\">Undergraduate</option>\n",
            "<option value=\"diploma\">Diploma</option>\n",
            "<option value=\"certificate\">Certificate</option>\n",
            "<option value=\"masters-degree\">Masters degree</option>\n",
            "<option value=\"postgraduate\">Postgraduate</option>\n",
            "</select>\n",
            "</div>\n",
            "<div class=\"checkbox\">\n",
            "<input name=\"checkbox\" type=\"checkbox\"/><span>I agree to the <a href=\"https://www.w3docs.com/privacy-policy\">Privacy Poalicy for W3Docs.</a></span>\n",
            "</div>\n",
            "<button href=\"/\" type=\"submit\">Submit</button>\n",
            "</form>\n",
            "</div>\n",
            "</body>\n",
            "</html>\n"
          ]
        }
      ]
    },
    {
      "cell_type": "code",
      "source": [
        "tag = doc.find_all(class_ = 'btn-item')\n",
        "print(tag)"
      ],
      "metadata": {
        "colab": {
          "base_uri": "https://localhost:8080/"
        },
        "id": "dEw0N3-jSn_8",
        "outputId": "67977f0a-6fc7-41a6-b25d-f34fd3e89be7"
      },
      "execution_count": 29,
      "outputs": [
        {
          "output_type": "stream",
          "name": "stdout",
          "text": [
            "[<a class=\"btn-item\" href=\"https://www.w3docs.com/learn-html.html\">Learn HTML</a>, <a class=\"btn-item\" href=\"https://www.w3docs.com/quiz/#\">Select Quiz</a>]\n"
          ]
        }
      ]
    },
    {
      "cell_type": "code",
      "source": [
        "tags = doc.find_all(text = re.compile('\\$.*'), limit = 1)\n",
        "for tag in tags:\n",
        "  print(tag.strip())"
      ],
      "metadata": {
        "colab": {
          "base_uri": "https://localhost:8080/"
        },
        "id": "05jVQwKRNZ9V",
        "outputId": "71d482bf-d3a7-487b-9da6-f049e229a534"
      },
      "execution_count": 32,
      "outputs": [
        {
          "output_type": "stream",
          "name": "stdout",
          "text": [
            "$2345\n"
          ]
        }
      ]
    },
    {
      "cell_type": "code",
      "source": [
        "tags = doc.find_all('input', type = 'text')\n",
        "for tag in tags:\n",
        "  tag['placeholder'] = 'I ve failed you!'\n",
        "\n",
        "with open('index2.html', 'w') as file:\n",
        "  file.write(str(doc))"
      ],
      "metadata": {
        "id": "6dQYJFDRQTMl"
      },
      "execution_count": 33,
      "outputs": []
    },
    {
      "cell_type": "code",
      "source": [],
      "metadata": {
        "id": "m5xg7Us4Rocj"
      },
      "execution_count": null,
      "outputs": []
    }
  ]
}